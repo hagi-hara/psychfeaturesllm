{
 "cells": [
  {
   "cell_type": "code",
   "execution_count": null,
   "metadata": {},
   "outputs": [],
   "source": [
    "import json"
   ]
  },
  {
   "cell_type": "code",
   "execution_count": 16,
   "metadata": {},
   "outputs": [],
   "source": [
    "# jsonを読み込む\n",
    "\n",
    "# gpt-4o-2024-05-13* のファイルを読み込む\n",
    "\n",
    "import glob\n",
    "\n",
    "file_list = glob.glob(\"gpt-4o-2024-05-13*.json\")\n",
    "\n",
    "prompt_tokens = []\n",
    "completion_tokens = []\n",
    " \n",
    "for file_name in file_list:\n",
    "    with open(file_name, 'r') as f:\n",
    "        data = json.load(f)\n",
    "        # print(data)\n",
    "        prompt_tokens.append( data[\"usage\"][\"prompt_tokens\"] )\n",
    "        completion_tokens.append( data[\"usage\"][\"completion_tokens\"] )\n",
    "        # print( data[\"usage\"][\"prompt_tokens\"] )\n",
    "        # print( data[\"usage\"][\"completion_tokens\"] )\n",
    "    "
   ]
  },
  {
   "cell_type": "code",
   "execution_count": 19,
   "metadata": {},
   "outputs": [
    {
     "data": {
      "text/plain": [
       "2024.8095238095239"
      ]
     },
     "execution_count": 19,
     "metadata": {},
     "output_type": "execute_result"
    }
   ],
   "source": [
    "sum(prompt_tokens) / len(prompt_tokens)"
   ]
  },
  {
   "cell_type": "code",
   "execution_count": 20,
   "metadata": {},
   "outputs": [
    {
     "data": {
      "text/plain": [
       "3830.0"
      ]
     },
     "execution_count": 20,
     "metadata": {},
     "output_type": "execute_result"
    }
   ],
   "source": [
    "sum(completion_tokens) / len(completion_tokens)"
   ]
  },
  {
   "cell_type": "code",
   "execution_count": 31,
   "metadata": {},
   "outputs": [
    {
     "data": {
      "text/plain": [
       "210"
      ]
     },
     "execution_count": 31,
     "metadata": {},
     "output_type": "execute_result"
    }
   ],
   "source": [
    "len(completion_tokens)"
   ]
  },
  {
   "cell_type": "code",
   "execution_count": 33,
   "metadata": {},
   "outputs": [
    {
     "name": "stdout",
     "output_type": "stream",
     "text": [
      "prompt_tokens. 21 type x 10 trials\n",
      "425210\n",
      "completion_tokens. 21 type x 10 trials\n",
      "804300\n",
      "\n",
      "gpt-4\n",
      "$30.0 / 1M input tokens\n",
      "$60.0 / 1M output tokens\n",
      "all token price\n",
      "61.014300000000006\n",
      "\n",
      "gpt-4o-2024-08-06\n",
      "$2.5 / 1M input tokens\n",
      "$10.0 / 1M output tokens\n",
      "all token price\n",
      "9.106024999999999\n",
      "\n",
      "gpt-4o-2024-05-13\n",
      "$5.0 / 1M input tokens\n",
      "$15.0 / 1M output tokens\n",
      "all token price\n",
      "14.190550000000002\n",
      "\n",
      "gpt-4o-mini-2024-07-18\n",
      "$0.15 / 1M input tokens\n",
      "$0.6 / 1M output tokens\n",
      "all token price\n",
      "0.5463615\n",
      "\n",
      "meta-llama/Meta-Llama-3.1-405B-Instruct\n",
      "$1.79 / 1M input tokens\n",
      "$1.79 / 1M output tokens\n",
      "all token price\n",
      "2.2008229\n",
      "\n",
      "meta-llama/Meta-Llama-3.1-70B-Instruct\n",
      "$0.35 / 1M input tokens\n",
      "$0.4 / 1M output tokens\n",
      "all token price\n",
      "0.4705435\n",
      "\n"
     ]
    }
   ],
   "source": [
    "# https://openai.com/api/pricing/\n",
    "# https://deepinfra.com/\n",
    "\n",
    "# gpt-4\n",
    "# $30.00 / 1M tokens\n",
    "# $60.00 / 1M tokens\n",
    "\n",
    "# gpt-4o-2024-08-06\n",
    "# $2.50 / 1M input tokens\n",
    "# $10.00 / 1M output tokens\n",
    "\n",
    "# gpt-4o-2024-05-13\n",
    "# $5.00 / 1M input tokens\n",
    "# $15.00 / 1M output tokens\n",
    "\n",
    "# gpt-4o-mini-2024-07-18\n",
    "# $0.150 / 1M input tokens\n",
    "# $0.600 / 1M output tokens\n",
    "\n",
    "# deepinfra meta-llama/Meta-Llama-3.1-405B-Instruct\n",
    "# $1.79 / 1M input tokens\n",
    "# $1.79 / 1M output tokens\n",
    "\n",
    "# deepinfra meta-llama/Meta-Llama-3.1-70B-Instruct\n",
    "# $0.35 / 1M input tokens\n",
    "# $0.40 / 1M output tokens\n",
    "\n",
    "# 各モデルの価格と合計のトークン数から、合計の価格を計算する\n",
    "print(\"prompt_tokens. 21 type x 10 trials\")\n",
    "print(sum(prompt_tokens))\n",
    "print(\"completion_tokens. 21 type x 10 trials\")\n",
    "print(sum(completion_tokens))\n",
    "print()\n",
    "\n",
    "model_name_and_price = {\n",
    "    \"gpt-4\": [30.00, 60.00],\n",
    "    \"gpt-4o-2024-08-06\": [2.50, 10.00],\n",
    "    \"gpt-4o-2024-05-13\": [5.00, 15.00],\n",
    "    \"gpt-4o-mini-2024-07-18\": [0.150, 0.600],\n",
    "    \"meta-llama/Meta-Llama-3.1-405B-Instruct\": [1.79, 1.79],\n",
    "    \"meta-llama/Meta-Llama-3.1-70B-Instruct\": [0.35, 0.40],\n",
    "}\n",
    "\n",
    "for model_name, price in model_name_and_price.items():\n",
    "    print(model_name)\n",
    "    input_token_price = price[0]\n",
    "    output_token_price = price[1]\n",
    "    print(f\"${input_token_price} / 1M input tokens\")\n",
    "    print(f\"${output_token_price} / 1M output tokens\")\n",
    "    # print(input_token_price, output_token_price)\n",
    "    print(\"all token price\")\n",
    "    print( (input_token_price * sum(prompt_tokens) / 1000000) + (output_token_price * sum(completion_tokens) / 1000000) )\n",
    "    print()"
   ]
  },
  {
   "cell_type": "code",
   "execution_count": null,
   "metadata": {},
   "outputs": [],
   "source": []
  },
  {
   "cell_type": "code",
   "execution_count": null,
   "metadata": {},
   "outputs": [],
   "source": [
    "data[\"usage\"][\"prompt_tokens\"]\n",
    "data[\"usage\"][\"completion_tokens\"]"
   ]
  },
  {
   "cell_type": "code",
   "execution_count": null,
   "metadata": {},
   "outputs": [],
   "source": [
    "import glob\n",
    "\n",
    "file_list = glob.glob(\"gpt-4o-2024-05-13*\")"
   ]
  },
  {
   "cell_type": "code",
   "execution_count": null,
   "metadata": {},
   "outputs": [],
   "source": [
    "file_list"
   ]
  },
  {
   "cell_type": "code",
   "execution_count": null,
   "metadata": {},
   "outputs": [],
   "source": []
  }
 ],
 "metadata": {
  "kernelspec": {
   "display_name": "Python 3",
   "language": "python",
   "name": "python3"
  },
  "language_info": {
   "codemirror_mode": {
    "name": "ipython",
    "version": 3
   },
   "file_extension": ".py",
   "mimetype": "text/x-python",
   "name": "python",
   "nbconvert_exporter": "python",
   "pygments_lexer": "ipython3",
   "version": "3.11.2"
  }
 },
 "nbformat": 4,
 "nbformat_minor": 2
}
